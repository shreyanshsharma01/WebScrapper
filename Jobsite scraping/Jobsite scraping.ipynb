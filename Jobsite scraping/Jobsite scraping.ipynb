{
 "cells": [
  {
   "cell_type": "code",
   "execution_count": 2,
   "id": "c9644203",
   "metadata": {},
   "outputs": [
    {
     "data": {
      "text/plain": [
       "'C:\\\\Users\\\\Q209\\\\WebScraping\\\\Jobsite scraping'"
      ]
     },
     "execution_count": 2,
     "metadata": {},
     "output_type": "execute_result"
    }
   ],
   "source": [
    "import os\n",
    "os.getcwd()"
   ]
  },
  {
   "cell_type": "markdown",
   "id": "73c26349",
   "metadata": {},
   "source": [
    "### importing libraries"
   ]
  },
  {
   "cell_type": "code",
   "execution_count": 16,
   "id": "66a755d8",
   "metadata": {},
   "outputs": [],
   "source": [
    "from selenium import webdriver \n",
    "from selenium.webdriver.common.by import By\n",
    "from selenium.webdriver.support.ui import WebDriverWait\n",
    "from webdriver_manager.chrome import ChromeDriverManager\n",
    "from selenium.webdriver.support.select import Select\n",
    "import time"
   ]
  },
  {
   "cell_type": "code",
   "execution_count": 21,
   "id": "4e8dcda0",
   "metadata": {},
   "outputs": [
    {
     "name": "stderr",
     "output_type": "stream",
     "text": [
      "C:\\Users\\Q209\\AppData\\Local\\Temp\\ipykernel_4984\\3496260718.py:2: DeprecationWarning: executable_path has been deprecated, please pass in a Service object\n",
      "  driver = webdriver.Chrome(executable_path=path)\n"
     ]
    },
    {
     "name": "stdout",
     "output_type": "stream",
     "text": [
      "done\n",
      "done\n",
      "done\n",
      "done\n"
     ]
    }
   ],
   "source": [
    "path = r'chromedriver.exe'\n",
    "driver = webdriver.Chrome(executable_path=path)\n",
    "\n",
    "# Navigate to the main page\n",
    "base_url = \"https://www.jobsite.co.uk/\"\n",
    "driver.get(base_url)\n",
    "driver.maximize_window() # to maximise the window opened\n",
    "driver.implicitly_wait(10)\n",
    "\n",
    "cookie_accept_button = driver.find_element(By.XPATH,\"//div[@id='ccmgt_explicit_accept']\")\n",
    "try:\n",
    "    cookie_accept_button.click()\n",
    "except:\n",
    "    pass\n",
    "\n",
    "search_profile_name = 'Data Scientist'\n",
    "search_box1 = driver.find_element(By.XPATH,\"//input[@class='form-control keywords search-keywords homepage-what ui-autocomplete-input']\")\n",
    "search_box1.send_keys(search_profile_name)\n",
    "time.sleep(1)\n",
    "\n",
    "search_location = 'London'\n",
    "search_box2 = driver.find_element(By.XPATH,\"//input[@class='form-control location search-location-text ui-autocomplete-input']\")\n",
    "search_box2.send_keys(search_location)\n",
    "time.sleep(1)\n",
    "\n",
    "dropdown = driver.find_element(By.XPATH,\"//select[@name='Radius']\")\n",
    "radius = Select(dropdown)\n",
    "radius.select_by_visible_text('20 miles')\n",
    "time.sleep(1)\n",
    "\n",
    "\n",
    "click_search_button = driver.find_element(By.XPATH,\"//input[@class='btn btn-lg btn-primary search-submit-button brand-font']\").click()\n",
    "\n",
    "\n",
    "#to store the datas we create empty lists\n",
    "job_title = []\n",
    "company_name = []\n",
    "location_area = []\n",
    "salary = []\n",
    "job_description = []\n",
    "\n",
    "jobtitles = driver.find_elements(By.XPATH,\"//a[@data-at='job-item-title']\")\n",
    "for title in jobtitles:\n",
    "    job_title.append(title.text)\n",
    "print(\"done\")\n",
    "company_names = driver.find_elements(By.XPATH,\"//div[@data-at='job-item-company-name']\")\n",
    "for company in company_names:\n",
    "    company_name.append(company.text)\n",
    "print(\"done\")   \n",
    "location_areas = driver.find_elements(By.XPATH,\"//li[@data-at='job-item-location']\")\n",
    "for areas in location_areas:\n",
    "    location_area.append(areas.text)\n",
    "print(\"done\")\n",
    "salaries = driver.find_elements(By.XPATH,\"//dl[@data-at='job-item-salary-info']\")\n",
    "for sal in salaries:\n",
    "    salary.append(sal.text)\n",
    "print(\"done\")"
   ]
  },
  {
   "cell_type": "code",
   "execution_count": 22,
   "id": "c06ee969",
   "metadata": {},
   "outputs": [
    {
     "name": "stdout",
     "output_type": "stream",
     "text": [
      "['Financial Crime Data Scientist', 'Data Scientist', 'Data Scientist', 'Data Scientist', 'Data Scientist', 'Applied Computer Vision Data Scientist', 'Data Scientist', 'Data Scientist', 'Data Scientist, Python {Blue Chip Organisation}', 'Data Scientist/Quantitative Analyst, Market Analysis & Risk', 'Data Scientist', 'Data Scientist', 'Lead Data Scientist', 'Data Scientist', 'Data Scientist Lead (F/M/X)', 'Pricing Data Scientist', 'Data Scientist', 'Data Scientist', 'Anti-Financial Crime (AFC) Modelling - Tuning and Optimisation Data Scientist/ Analyst', '2023 Data Scientist Graduate Programme - Insurance Consulting - Reigate', 'Data Scientist', 'Associate, Data Scientist / Machine Learning Engineer', 'Pricing Data Analyst (Data Scientist)', 'Senior Data Scientist / Software Engineer - London', 'Senior Data Scientist']\n"
     ]
    }
   ],
   "source": [
    "print(job_title)"
   ]
  },
  {
   "cell_type": "code",
   "execution_count": null,
   "id": "5bef6f13",
   "metadata": {},
   "outputs": [],
   "source": []
  }
 ],
 "metadata": {
  "kernelspec": {
   "display_name": "Python 3 (ipykernel)",
   "language": "python",
   "name": "python3"
  },
  "language_info": {
   "codemirror_mode": {
    "name": "ipython",
    "version": 3
   },
   "file_extension": ".py",
   "mimetype": "text/x-python",
   "name": "python",
   "nbconvert_exporter": "python",
   "pygments_lexer": "ipython3",
   "version": "3.8.0"
  }
 },
 "nbformat": 4,
 "nbformat_minor": 5
}
