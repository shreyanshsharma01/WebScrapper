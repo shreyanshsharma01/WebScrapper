{
 "cells": [
  {
   "cell_type": "code",
   "execution_count": 6,
   "id": "bee34244",
   "metadata": {},
   "outputs": [],
   "source": [
    "from selenium import webdriver\n",
    "from webdriver_manager.chrome import ChromeDriverManager\n",
    "from selenium.webdriver.common.by import By\n",
    "from selenium.webdriver.support.ui import WebDriverWait\n",
    "from selenium.webdriver.common.keys import Keys\n",
    "from time import sleep"
   ]
  },
  {
   "cell_type": "code",
   "execution_count": 15,
   "id": "b42cb52e",
   "metadata": {},
   "outputs": [
    {
     "name": "stderr",
     "output_type": "stream",
     "text": [
      "C:\\Users\\Q209\\AppData\\Local\\Temp\\ipykernel_11568\\1405120150.py:2: DeprecationWarning: executable_path has been deprecated, please pass in a Service object\n",
      "  driver = webdriver.Chrome(executable_path=path)\n"
     ]
    }
   ],
   "source": [
    "path = r'C:\\Users\\Q209\\Current projects\\Dominos scraping\\chromedriver.exe'\n",
    "driver = webdriver.Chrome(executable_path=path)\n",
    "\n",
    "# Navigate to the Google Maps page for the store\n",
    "search_name = \"Samsung mobiles\"\n",
    "base_url = 'https://www.amazon.in/'\n",
    "\n",
    "driver.get(base_url)\n",
    "driver.maximize_window() # to maximise the window opened\n",
    "driver.implicitly_wait(10)\n",
    "\n",
    "search_box = driver.find_element(By.XPATH,\"//input[contains(@id,'twotabsearchtextbox')]\")\n",
    "search_box.send_keys(search_name) \n",
    "search_box.send_keys(Keys.RETURN)\n",
    "\n",
    "click_to_get_specific_results = driver.find_element(By.XPATH,\"//span[text()='Samsung']\").click()\n",
    "\n",
    "#to get mobile names \n",
    "mobile_names = driver.find_elements(By.XPATH,\"//span[contains(@class,\"a-color-base a-text-normal\")]\") #this will return a list of names"
   ]
  },
  {
   "cell_type": "code",
   "execution_count": 14,
   "id": "b15810c4",
   "metadata": {},
   "outputs": [],
   "source": [
    "driver.quit()"
   ]
  },
  {
   "cell_type": "code",
   "execution_count": null,
   "id": "11863417",
   "metadata": {},
   "outputs": [],
   "source": [
    "//input[contains(@id,\"twotabsearchtextbox\")]\n",
    "//span[contains(@class,\"a-size-medium a-color-base a-text-normal\")]\n",
    "\n",
    "//span[contains(@class,\"a-color-base a-text-normal\")]"
   ]
  }
 ],
 "metadata": {
  "kernelspec": {
   "display_name": "Python 3 (ipykernel)",
   "language": "python",
   "name": "python3"
  },
  "language_info": {
   "codemirror_mode": {
    "name": "ipython",
    "version": 3
   },
   "file_extension": ".py",
   "mimetype": "text/x-python",
   "name": "python",
   "nbconvert_exporter": "python",
   "pygments_lexer": "ipython3",
   "version": "3.8.0"
  }
 },
 "nbformat": 4,
 "nbformat_minor": 5
}
