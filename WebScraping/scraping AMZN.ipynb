{
 "cells": [
  {
   "cell_type": "markdown",
   "id": "2d7ddf30",
   "metadata": {},
   "source": [
    "## Amazon Webscraping - Samsung Mobiles (first page results)"
   ]
  },
  {
   "cell_type": "markdown",
   "id": "85343265",
   "metadata": {},
   "source": [
    "### Importing libraries"
   ]
  },
  {
   "cell_type": "code",
   "execution_count": 1,
   "id": "628ccadf",
   "metadata": {},
   "outputs": [],
   "source": [
    "from selenium import webdriver\n",
    "from webdriver_manager.chrome import ChromeDriverManager\n",
    "from selenium.webdriver.common.by import By\n",
    "from selenium.webdriver.support.ui import WebDriverWait\n",
    "from selenium.webdriver.common.keys import Keys\n",
    "from time import sleep"
   ]
  },
  {
   "cell_type": "code",
   "execution_count": null,
   "id": "c4119be1",
   "metadata": {
    "scrolled": false
   },
   "outputs": [],
   "source": [
    "path = r'C:\\Users\\Q209\\Current projects\\Dominos scraping\\chromedriver.exe'\n",
    "driver = webdriver.Chrome(executable_path=path)\n",
    "\n",
    "# Navigate to the Google Maps page for the store\n",
    "search_name = \"Samsung mobiles\"\n",
    "base_url = 'https://www.amazon.in/'\n",
    "\n",
    "driver.get(base_url)\n",
    "driver.maximize_window() # to maximise the window opened\n",
    "driver.implicitly_wait(10)\n",
    "\n",
    "search_box = driver.find_element(By.XPATH,\"//input[contains(@id,'twotabsearchtextbox')]\")\n",
    "search_box.send_keys(search_name) \n",
    "search_box.send_keys(Keys.RETURN)\n",
    "\n",
    "click_to_get_specific_results = driver.find_element(By.XPATH,\"//span[text()='Samsung']\").click()\n",
    "\n",
    "# #to get mobile names \n",
    "mobile_names = driver.find_elements(By.XPATH,\"//span[contains(@class,'a-color-base a-text-normal')]\") #this will return a list of names\n",
    "\n",
    "#creating empty list to store the scraped data\n",
    "sc_mobiles=[]\n",
    "sc_prices=[]\n",
    "\n",
    "# writing loop to store the names one by one\n",
    "for mobile in mobile_names: # this is one webelement\n",
    "    #print(mobile.text) # the get text part \n",
    "    sc_mobiles.append(mobile.text)\n",
    "    \n",
    "# #divide these by a line\n",
    "# print(\"_*\"*50)\n",
    "#to get prices\n",
    "prices = driver.find_elements(By.XPATH,\"//span[contains(@class,'a-price-whole')]\") \n",
    "# writing loop to store the prices one by one\n",
    "for price in prices: # this is one webelement\n",
    "    #print(price.text) # the get text part \n",
    "    sc_prices.append(price.text)\n",
    "    \n",
    "# we get two list from above so we group them together using zip function:\n",
    "final = zip(sc_mobiles,sc_prices)\n",
    "#converting it itno list\n",
    "final_list = list(final)\n",
    "\n",
    "# for data in final_list:\n",
    "#     print(data)"
   ]
  },
  {
   "cell_type": "code",
   "execution_count": 7,
   "id": "e4f2e4dc",
   "metadata": {},
   "outputs": [],
   "source": [
    "from openpyxl import Workbook\n",
    "# Now to store this data in excel sheet\n",
    "wb = Workbook()\n",
    "sheet1 = wb.active\n",
    "\n",
    "sheet1.append(['Names','Price'])\n",
    "for x in final_list:\n",
    "    sheet1.append(x) "
   ]
  },
  {
   "cell_type": "code",
   "execution_count": 8,
   "id": "1bd6a6b5",
   "metadata": {},
   "outputs": [],
   "source": [
    "#To save the file\n",
    "wb.save(\"Amazon_SamsungMobile_scraped_data.xlsx\")"
   ]
  },
  {
   "cell_type": "code",
   "execution_count": 5,
   "id": "5900894f",
   "metadata": {},
   "outputs": [],
   "source": [
    "driver.quit()"
   ]
  },
  {
   "cell_type": "raw",
   "id": "c7974a30",
   "metadata": {},
   "source": [
    "## for search box \n",
    "//input[contains(@id,\"twotabsearchtextbox\")]\n",
    "\n",
    "## for mobile names \n",
    "//span[contains(@class,\"a-size-medium a-color-base a-text-normal\")] <-------- reducing the size of class name without being deviated from the keyword\n",
    "//span[contains(@class,\"a-color-base a-text-normal\")]\n",
    "## for price \n",
    "//span[contains(@class,'a-price-whole')]"
   ]
  },
  {
   "cell_type": "code",
   "execution_count": null,
   "id": "a03dc650",
   "metadata": {},
   "outputs": [],
   "source": [
    "wb.sheet( )"
   ]
  }
 ],
 "metadata": {
  "kernelspec": {
   "display_name": "Python 3 (ipykernel)",
   "language": "python",
   "name": "python3"
  },
  "language_info": {
   "codemirror_mode": {
    "name": "ipython",
    "version": 3
   },
   "file_extension": ".py",
   "mimetype": "text/x-python",
   "name": "python",
   "nbconvert_exporter": "python",
   "pygments_lexer": "ipython3",
   "version": "3.8.0"
  }
 },
 "nbformat": 4,
 "nbformat_minor": 5
}
